{
 "cells": [
  {
   "cell_type": "code",
   "execution_count": 1,
   "metadata": {},
   "outputs": [
    {
     "name": "stdout",
     "output_type": "stream",
     "text": [
      "Epoch 1/5\n"
     ]
    },
    {
     "name": "stderr",
     "output_type": "stream",
     "text": [
      "c:\\Users\\ismet\\AppData\\Local\\Programs\\Python\\Python312\\Lib\\site-packages\\keras\\src\\layers\\reshaping\\flatten.py:37: UserWarning: Do not pass an `input_shape`/`input_dim` argument to a layer. When using Sequential models, prefer using an `Input(shape)` object as the first layer in the model instead.\n",
      "  super().__init__(**kwargs)\n"
     ]
    },
    {
     "name": "stdout",
     "output_type": "stream",
     "text": [
      "\u001b[1m1875/1875\u001b[0m \u001b[32m━━━━━━━━━━━━━━━━━━━━\u001b[0m\u001b[37m\u001b[0m \u001b[1m3s\u001b[0m 1ms/step - accuracy: 0.8792 - loss: 0.4358\n",
      "Epoch 2/5\n",
      "\u001b[1m1875/1875\u001b[0m \u001b[32m━━━━━━━━━━━━━━━━━━━━\u001b[0m\u001b[37m\u001b[0m \u001b[1m2s\u001b[0m 1ms/step - accuracy: 0.9657 - loss: 0.1174\n",
      "Epoch 3/5\n",
      "\u001b[1m1875/1875\u001b[0m \u001b[32m━━━━━━━━━━━━━━━━━━━━\u001b[0m\u001b[37m\u001b[0m \u001b[1m2s\u001b[0m 1ms/step - accuracy: 0.9765 - loss: 0.0795\n",
      "Epoch 4/5\n",
      "\u001b[1m1875/1875\u001b[0m \u001b[32m━━━━━━━━━━━━━━━━━━━━\u001b[0m\u001b[37m\u001b[0m \u001b[1m3s\u001b[0m 1ms/step - accuracy: 0.9823 - loss: 0.0575\n",
      "Epoch 5/5\n",
      "\u001b[1m1875/1875\u001b[0m \u001b[32m━━━━━━━━━━━━━━━━━━━━\u001b[0m\u001b[37m\u001b[0m \u001b[1m2s\u001b[0m 939us/step - accuracy: 0.9870 - loss: 0.0427\n"
     ]
    },
    {
     "data": {
      "text/plain": [
       "<keras.src.callbacks.history.History at 0x2175a064b60>"
      ]
     },
     "execution_count": 1,
     "metadata": {},
     "output_type": "execute_result"
    }
   ],
   "source": [
    "import numpy as np\n",
    "import tkinter as tk\n",
    "from tensorflow import keras\n",
    "from tensorflow.keras import layers\n",
    "from tensorflow.keras.models import load_model\n",
    "from PIL import Image, ImageDraw\n",
    "\n",
    "\n",
    "mnist = keras.datasets.mnist\n",
    "(x_train, y_train), (x_test, y_test) = mnist.load_data()\n",
    "\n",
    "\n",
    "x_train = x_train.astype(\"float32\") / 255\n",
    "x_test = x_test.astype(\"float32\") / 255\n",
    "\n",
    "\n",
    "model = keras.Sequential([\n",
    "    layers.Flatten(input_shape=(28, 28)),\n",
    "    layers.Dense(128, activation='relu'),\n",
    "    layers.Dense(10, activation='softmax')\n",
    "])\n",
    "\n",
    "\n",
    "model.compile(optimizer='adam',\n",
    "              loss='sparse_categorical_crossentropy',\n",
    "              metrics=['accuracy'])\n",
    "\n",
    "model.fit(x_train, y_train, epochs=5)"
   ]
  },
  {
   "cell_type": "code",
   "execution_count": null,
   "metadata": {},
   "outputs": [],
   "source": [
    "GRID_SIZE = 28 \n",
    "CELL_SIZE = 20 \n",
    "\n",
    "root = tk.Tk()\n",
    "root.title(\"28x28 Çizim Ekranı\")\n",
    "\n",
    "canvas = tk.Canvas(root, width=GRID_SIZE * CELL_SIZE, height=GRID_SIZE * CELL_SIZE, bg=\"black\")\n",
    "canvas.pack()\n",
    "\n",
    "\n",
    "\n",
    "def draw(event):\n",
    "    x = event.x // CELL_SIZE * CELL_SIZE\n",
    "    y = event.y // CELL_SIZE * CELL_SIZE\n",
    "    canvas.create_rectangle(x, y, x + CELL_SIZE, y + CELL_SIZE, fill=\"white\", outline=\"\")\n",
    "\n",
    "\n",
    "\n",
    "def clear_canvas():\n",
    "    canvas.delete(\"all\") \n",
    "    canvas.configure(bg=\"black\") \n",
    "\n",
    "\n",
    "\n",
    "def get_drawing_as_image():\n",
    "    img = Image.new(\"RGB\", (GRID_SIZE * CELL_SIZE, GRID_SIZE * CELL_SIZE), \"black\")\n",
    "    draw = ImageDraw.Draw(img)\n",
    "\n",
    "\n",
    "\n",
    "    for i in range(GRID_SIZE):\n",
    "        for j in range(GRID_SIZE):\n",
    "            x0 = j * CELL_SIZE\n",
    "            y0 = i * CELL_SIZE\n",
    "            x1 = x0 + CELL_SIZE\n",
    "            y1 = y0 + CELL_SIZE\n",
    "            \n",
    "\n",
    "            if canvas.find_overlapping(x0, y0, x1, y1):\n",
    "                draw.rectangle([x0, y0, x1, y1], fill=\"white\")\n",
    "\n",
    "    return img\n",
    "\n",
    "\n",
    "def predict_digit():\n",
    "    image = get_drawing_as_image()\n",
    "    img = image.convert('L')\n",
    "    img = img.resize((28, 28))\n",
    "    img = np.array(img) / 255.0\n",
    "    img = img.reshape(1, 28, 28)\n",
    "\n",
    "\n",
    "    prediction = model.predict(img)\n",
    "    digit = np.argmax(prediction)\n",
    "\n",
    "    number_label.config(text=f\"Tahmin: {digit}\")\n",
    "\n",
    "\n",
    "clear_button = tk.Button(root, text=\"Temizle\", command=clear_canvas)\n",
    "clear_button.pack(side=tk.LEFT, padx=10, pady=10)\n",
    "\n",
    "\n",
    "number_label = tk.Label(root, text=\"Tahmin: \", width=20)\n",
    "number_label.pack(side=tk.LEFT, padx=10)\n",
    "\n",
    "predict_button = tk.Button(root, text=\"Tahmin Et\", command=predict_digit)\n",
    "predict_button.pack(side=tk.RIGHT, padx=10, pady=15)\n",
    "\n",
    "canvas.bind(\"<B1-Motion>\", draw)\n",
    "\n",
    "root.mainloop()"
   ]
  }
 ],
 "metadata": {
  "kernelspec": {
   "display_name": "Python 3",
   "language": "python",
   "name": "python3"
  },
  "language_info": {
   "codemirror_mode": {
    "name": "ipython",
    "version": 3
   },
   "file_extension": ".py",
   "mimetype": "text/x-python",
   "name": "python",
   "nbconvert_exporter": "python",
   "pygments_lexer": "ipython3",
   "version": "3.12.6"
  }
 },
 "nbformat": 4,
 "nbformat_minor": 2
}
